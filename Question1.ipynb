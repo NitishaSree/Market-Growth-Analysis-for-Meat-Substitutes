{
 "cells": [
  {
   "cell_type": "code",
   "execution_count": 42,
   "id": "ca12b155",
   "metadata": {},
   "outputs": [],
   "source": [
    "import pandas as pd\n",
    "import warnings\n",
    "warnings.filterwarnings('ignore')"
   ]
  },
  {
   "cell_type": "code",
   "execution_count": 43,
   "id": "1ef0f0b7",
   "metadata": {},
   "outputs": [],
   "source": [
    "df = pd.read_excel('Fz Meat_POS_2020.xlsx')"
   ]
  },
  {
   "cell_type": "code",
   "execution_count": 44,
   "id": "f32ff2e8",
   "metadata": {},
   "outputs": [
    {
     "name": "stdout",
     "output_type": "stream",
     "text": [
      "Geography                         0\n",
      "Time                              0\n",
      "Product                           0\n",
      "UPC 13 digit                      0\n",
      "Unit Sales                        0\n",
      "Volume Sales                      0\n",
      "Dollar Sales                      0\n",
      "Price per Unit                    0\n",
      "Price per Volume                  0\n",
      "Base Unit Sales                   0\n",
      "Base Volume Sales                 0\n",
      "Base Dollar Sales                 0\n",
      "Incremental Units            139141\n",
      "Incremental Volume           139141\n",
      "Incremental Dollars          139141\n",
      "ACV Weighted Distribution         0\n",
      "dtype: int64\n",
      "<class 'pandas.core.frame.DataFrame'>\n",
      "RangeIndex: 313569 entries, 0 to 313568\n",
      "Data columns (total 16 columns):\n",
      " #   Column                     Non-Null Count   Dtype  \n",
      "---  ------                     --------------   -----  \n",
      " 0   Geography                  313569 non-null  object \n",
      " 1   Time                       313569 non-null  object \n",
      " 2   Product                    313569 non-null  object \n",
      " 3   UPC 13 digit               313569 non-null  int64  \n",
      " 4   Unit Sales                 313569 non-null  float64\n",
      " 5   Volume Sales               313569 non-null  float64\n",
      " 6   Dollar Sales               313569 non-null  float64\n",
      " 7   Price per Unit             313569 non-null  float64\n",
      " 8   Price per Volume           313569 non-null  float64\n",
      " 9   Base Unit Sales            313569 non-null  float64\n",
      " 10  Base Volume Sales          313569 non-null  float64\n",
      " 11  Base Dollar Sales          313569 non-null  float64\n",
      " 12  Incremental Units          174428 non-null  float64\n",
      " 13  Incremental Volume         174428 non-null  float64\n",
      " 14  Incremental Dollars        174428 non-null  float64\n",
      " 15  ACV Weighted Distribution  313569 non-null  float64\n",
      "dtypes: float64(12), int64(1), object(3)\n",
      "memory usage: 38.3+ MB\n",
      "None\n"
     ]
    }
   ],
   "source": [
    "print(df.isnull().sum())  # Count nulls in each column\n",
    "print(df.info())          # Overview of the dataset"
   ]
  },
  {
   "cell_type": "code",
   "execution_count": 45,
   "id": "3f1d3c8a",
   "metadata": {},
   "outputs": [],
   "source": [
    "df_cleaned = df.dropna()"
   ]
  },
  {
   "cell_type": "code",
   "execution_count": 46,
   "id": "23db9baf",
   "metadata": {},
   "outputs": [],
   "source": [
    "df_cleaned = df.dropna(axis=1)"
   ]
  },
  {
   "cell_type": "code",
   "execution_count": 50,
   "id": "12b5afb5",
   "metadata": {},
   "outputs": [],
   "source": [
    "df_cleaned = df.dropna(subset=['Incremental Units', 'Incremental Volume', 'Incremental Dollars'])  # Replace with actual column names"
   ]
  },
  {
   "cell_type": "code",
   "execution_count": 51,
   "id": "48b5fc26",
   "metadata": {},
   "outputs": [],
   "source": [
    "df['Incremental Units'] = df['Incremental Units'].fillna(0)  # Replace nulls in Column1 with 0\n",
    "df['Incremental Volume'] = df['Incremental Volume'].fillna(0)  # Replace nulls in Column1 with 0\n",
    "df['Incremental Dollars'] = df['Incremental Dollars'].fillna(0)  # Replace nulls in Column1 with 0"
   ]
  },
  {
   "cell_type": "code",
   "execution_count": 52,
   "id": "399ab744",
   "metadata": {},
   "outputs": [
    {
     "name": "stdout",
     "output_type": "stream",
     "text": [
      "Geography                    0\n",
      "Time                         0\n",
      "Product                      0\n",
      "UPC 13 digit                 0\n",
      "Unit Sales                   0\n",
      "Volume Sales                 0\n",
      "Dollar Sales                 0\n",
      "Price per Unit               0\n",
      "Price per Volume             0\n",
      "Base Unit Sales              0\n",
      "Base Volume Sales            0\n",
      "Base Dollar Sales            0\n",
      "Incremental Units            0\n",
      "Incremental Volume           0\n",
      "Incremental Dollars          0\n",
      "ACV Weighted Distribution    0\n",
      "dtype: int64\n",
      "<class 'pandas.core.frame.DataFrame'>\n",
      "RangeIndex: 313569 entries, 0 to 313568\n",
      "Data columns (total 16 columns):\n",
      " #   Column                     Non-Null Count   Dtype  \n",
      "---  ------                     --------------   -----  \n",
      " 0   Geography                  313569 non-null  object \n",
      " 1   Time                       313569 non-null  object \n",
      " 2   Product                    313569 non-null  object \n",
      " 3   UPC 13 digit               313569 non-null  int64  \n",
      " 4   Unit Sales                 313569 non-null  float64\n",
      " 5   Volume Sales               313569 non-null  float64\n",
      " 6   Dollar Sales               313569 non-null  float64\n",
      " 7   Price per Unit             313569 non-null  float64\n",
      " 8   Price per Volume           313569 non-null  float64\n",
      " 9   Base Unit Sales            313569 non-null  float64\n",
      " 10  Base Volume Sales          313569 non-null  float64\n",
      " 11  Base Dollar Sales          313569 non-null  float64\n",
      " 12  Incremental Units          313569 non-null  float64\n",
      " 13  Incremental Volume         313569 non-null  float64\n",
      " 14  Incremental Dollars        313569 non-null  float64\n",
      " 15  ACV Weighted Distribution  313569 non-null  float64\n",
      "dtypes: float64(12), int64(1), object(3)\n",
      "memory usage: 38.3+ MB\n",
      "None\n"
     ]
    }
   ],
   "source": [
    "print(df.isnull().sum())  # Count nulls in each column\n",
    "print(df.info())          # Overview of the dataset"
   ]
  },
  {
   "cell_type": "code",
   "execution_count": 53,
   "id": "8f24f675",
   "metadata": {},
   "outputs": [],
   "source": [
    "df1 = pd.read_excel('Fz Meat_POS_2021.xlsx')"
   ]
  },
  {
   "cell_type": "code",
   "execution_count": 54,
   "id": "63cbaea7",
   "metadata": {},
   "outputs": [
    {
     "name": "stdout",
     "output_type": "stream",
     "text": [
      "Geography                         0\n",
      "Time                              0\n",
      "Product                           0\n",
      "UPC 13 digit                      0\n",
      "Unit Sales                        0\n",
      "Volume Sales                      0\n",
      "Dollar Sales                      0\n",
      "Price per Unit                    0\n",
      "Price per Volume                  0\n",
      "Base Unit Sales                   0\n",
      "Base Volume Sales                 0\n",
      "Base Dollar Sales                 0\n",
      "Incremental Units            116390\n",
      "Incremental Volume           116390\n",
      "Incremental Dollars          116390\n",
      "ACV Weighted Distribution         0\n",
      "dtype: int64\n",
      "<class 'pandas.core.frame.DataFrame'>\n",
      "RangeIndex: 301319 entries, 0 to 301318\n",
      "Data columns (total 16 columns):\n",
      " #   Column                     Non-Null Count   Dtype  \n",
      "---  ------                     --------------   -----  \n",
      " 0   Geography                  301319 non-null  object \n",
      " 1   Time                       301319 non-null  object \n",
      " 2   Product                    301319 non-null  object \n",
      " 3   UPC 13 digit               301319 non-null  int64  \n",
      " 4   Unit Sales                 301319 non-null  float64\n",
      " 5   Volume Sales               301319 non-null  float64\n",
      " 6   Dollar Sales               301319 non-null  float64\n",
      " 7   Price per Unit             301319 non-null  float64\n",
      " 8   Price per Volume           301319 non-null  float64\n",
      " 9   Base Unit Sales            301319 non-null  float64\n",
      " 10  Base Volume Sales          301319 non-null  float64\n",
      " 11  Base Dollar Sales          301319 non-null  float64\n",
      " 12  Incremental Units          184929 non-null  float64\n",
      " 13  Incremental Volume         184929 non-null  float64\n",
      " 14  Incremental Dollars        184929 non-null  float64\n",
      " 15  ACV Weighted Distribution  301319 non-null  float64\n",
      "dtypes: float64(12), int64(1), object(3)\n",
      "memory usage: 36.8+ MB\n",
      "None\n"
     ]
    }
   ],
   "source": [
    "print(df1.isnull().sum())  # Count nulls in each column\n",
    "print(df1.info())          # Overview of the dataset"
   ]
  },
  {
   "cell_type": "code",
   "execution_count": 55,
   "id": "34bf49b3",
   "metadata": {},
   "outputs": [],
   "source": [
    "df1_cleaned = df1.dropna(subset=['Incremental Units', 'Incremental Volume', 'Incremental Dollars'])"
   ]
  },
  {
   "cell_type": "code",
   "execution_count": 56,
   "id": "114a4888",
   "metadata": {},
   "outputs": [],
   "source": [
    "df1['Incremental Units'] = df1['Incremental Units'].fillna(0)  # Replace nulls in Column1 with 0\n",
    "df1['Incremental Volume'] = df1['Incremental Volume'].fillna(0)  # Replace nulls in Column1 with 0\n",
    "df1['Incremental Dollars'] = df1['Incremental Dollars'].fillna(0)  # Replace nulls in Column1 with 0"
   ]
  },
  {
   "cell_type": "code",
   "execution_count": 57,
   "id": "8c24f3a2",
   "metadata": {},
   "outputs": [
    {
     "name": "stdout",
     "output_type": "stream",
     "text": [
      "Geography                    0\n",
      "Time                         0\n",
      "Product                      0\n",
      "UPC 13 digit                 0\n",
      "Unit Sales                   0\n",
      "Volume Sales                 0\n",
      "Dollar Sales                 0\n",
      "Price per Unit               0\n",
      "Price per Volume             0\n",
      "Base Unit Sales              0\n",
      "Base Volume Sales            0\n",
      "Base Dollar Sales            0\n",
      "Incremental Units            0\n",
      "Incremental Volume           0\n",
      "Incremental Dollars          0\n",
      "ACV Weighted Distribution    0\n",
      "dtype: int64\n",
      "<class 'pandas.core.frame.DataFrame'>\n",
      "RangeIndex: 301319 entries, 0 to 301318\n",
      "Data columns (total 16 columns):\n",
      " #   Column                     Non-Null Count   Dtype  \n",
      "---  ------                     --------------   -----  \n",
      " 0   Geography                  301319 non-null  object \n",
      " 1   Time                       301319 non-null  object \n",
      " 2   Product                    301319 non-null  object \n",
      " 3   UPC 13 digit               301319 non-null  int64  \n",
      " 4   Unit Sales                 301319 non-null  float64\n",
      " 5   Volume Sales               301319 non-null  float64\n",
      " 6   Dollar Sales               301319 non-null  float64\n",
      " 7   Price per Unit             301319 non-null  float64\n",
      " 8   Price per Volume           301319 non-null  float64\n",
      " 9   Base Unit Sales            301319 non-null  float64\n",
      " 10  Base Volume Sales          301319 non-null  float64\n",
      " 11  Base Dollar Sales          301319 non-null  float64\n",
      " 12  Incremental Units          301319 non-null  float64\n",
      " 13  Incremental Volume         301319 non-null  float64\n",
      " 14  Incremental Dollars        301319 non-null  float64\n",
      " 15  ACV Weighted Distribution  301319 non-null  float64\n",
      "dtypes: float64(12), int64(1), object(3)\n",
      "memory usage: 36.8+ MB\n",
      "None\n"
     ]
    }
   ],
   "source": [
    "print(df1.isnull().sum())  # Count nulls in each column\n",
    "print(df1.info())          # Overview of the dataset"
   ]
  },
  {
   "cell_type": "code",
   "execution_count": 58,
   "id": "60a11de7",
   "metadata": {},
   "outputs": [],
   "source": [
    "df2 = pd.read_excel('Fz Meat_POS_2022.xlsx')"
   ]
  },
  {
   "cell_type": "code",
   "execution_count": 59,
   "id": "9445fa30",
   "metadata": {},
   "outputs": [
    {
     "name": "stdout",
     "output_type": "stream",
     "text": [
      "Geography                         0\n",
      "Time                              0\n",
      "Product                           0\n",
      "UPC 13 digit                      0\n",
      "Unit Sales                        0\n",
      "Volume Sales                      0\n",
      "Dollar Sales                      0\n",
      "Price per Unit                    0\n",
      "Price per Volume                  0\n",
      "Base Unit Sales                   0\n",
      "Base Volume Sales                 0\n",
      "Base Dollar Sales                 0\n",
      "Incremental Units            107744\n",
      "Incremental Volume           107744\n",
      "Incremental Dollars          107744\n",
      "ACV Weighted Distribution         0\n",
      "dtype: int64\n",
      "<class 'pandas.core.frame.DataFrame'>\n",
      "RangeIndex: 292524 entries, 0 to 292523\n",
      "Data columns (total 16 columns):\n",
      " #   Column                     Non-Null Count   Dtype  \n",
      "---  ------                     --------------   -----  \n",
      " 0   Geography                  292524 non-null  object \n",
      " 1   Time                       292524 non-null  object \n",
      " 2   Product                    292524 non-null  object \n",
      " 3   UPC 13 digit               292524 non-null  int64  \n",
      " 4   Unit Sales                 292524 non-null  float64\n",
      " 5   Volume Sales               292524 non-null  float64\n",
      " 6   Dollar Sales               292524 non-null  float64\n",
      " 7   Price per Unit             292524 non-null  float64\n",
      " 8   Price per Volume           292524 non-null  float64\n",
      " 9   Base Unit Sales            292524 non-null  float64\n",
      " 10  Base Volume Sales          292524 non-null  float64\n",
      " 11  Base Dollar Sales          292524 non-null  float64\n",
      " 12  Incremental Units          184780 non-null  float64\n",
      " 13  Incremental Volume         184780 non-null  float64\n",
      " 14  Incremental Dollars        184780 non-null  float64\n",
      " 15  ACV Weighted Distribution  292524 non-null  float64\n",
      "dtypes: float64(12), int64(1), object(3)\n",
      "memory usage: 35.7+ MB\n",
      "None\n"
     ]
    }
   ],
   "source": [
    "print(df2.isnull().sum())  # Count nulls in each column\n",
    "print(df2.info())          # Overview of the dataset"
   ]
  },
  {
   "cell_type": "code",
   "execution_count": 60,
   "id": "41710abe",
   "metadata": {},
   "outputs": [],
   "source": [
    "df2_cleaned = df2.dropna(subset=['Incremental Units', 'Incremental Volume', 'Incremental Dollars'])"
   ]
  },
  {
   "cell_type": "code",
   "execution_count": 61,
   "id": "bc40dc56",
   "metadata": {},
   "outputs": [],
   "source": [
    "df2['Incremental Units'] = df2['Incremental Units'].fillna(0)  # Replace nulls in Column1 with 0\n",
    "df2['Incremental Volume'] = df2['Incremental Volume'].fillna(0)  # Replace nulls in Column1 with 0\n",
    "df2['Incremental Dollars'] = df2['Incremental Dollars'].fillna(0)  # Replace nulls in Column1 with 0"
   ]
  },
  {
   "cell_type": "code",
   "execution_count": 62,
   "id": "76c0a1f4",
   "metadata": {},
   "outputs": [
    {
     "name": "stdout",
     "output_type": "stream",
     "text": [
      "Geography                    0\n",
      "Time                         0\n",
      "Product                      0\n",
      "UPC 13 digit                 0\n",
      "Unit Sales                   0\n",
      "Volume Sales                 0\n",
      "Dollar Sales                 0\n",
      "Price per Unit               0\n",
      "Price per Volume             0\n",
      "Base Unit Sales              0\n",
      "Base Volume Sales            0\n",
      "Base Dollar Sales            0\n",
      "Incremental Units            0\n",
      "Incremental Volume           0\n",
      "Incremental Dollars          0\n",
      "ACV Weighted Distribution    0\n",
      "dtype: int64\n",
      "<class 'pandas.core.frame.DataFrame'>\n",
      "RangeIndex: 292524 entries, 0 to 292523\n",
      "Data columns (total 16 columns):\n",
      " #   Column                     Non-Null Count   Dtype  \n",
      "---  ------                     --------------   -----  \n",
      " 0   Geography                  292524 non-null  object \n",
      " 1   Time                       292524 non-null  object \n",
      " 2   Product                    292524 non-null  object \n",
      " 3   UPC 13 digit               292524 non-null  int64  \n",
      " 4   Unit Sales                 292524 non-null  float64\n",
      " 5   Volume Sales               292524 non-null  float64\n",
      " 6   Dollar Sales               292524 non-null  float64\n",
      " 7   Price per Unit             292524 non-null  float64\n",
      " 8   Price per Volume           292524 non-null  float64\n",
      " 9   Base Unit Sales            292524 non-null  float64\n",
      " 10  Base Volume Sales          292524 non-null  float64\n",
      " 11  Base Dollar Sales          292524 non-null  float64\n",
      " 12  Incremental Units          292524 non-null  float64\n",
      " 13  Incremental Volume         292524 non-null  float64\n",
      " 14  Incremental Dollars        292524 non-null  float64\n",
      " 15  ACV Weighted Distribution  292524 non-null  float64\n",
      "dtypes: float64(12), int64(1), object(3)\n",
      "memory usage: 35.7+ MB\n",
      "None\n"
     ]
    }
   ],
   "source": [
    "print(df2.isnull().sum())  # Count nulls in each column\n",
    "print(df2.info())          # Overview of the dataset"
   ]
  },
  {
   "cell_type": "code",
   "execution_count": 63,
   "id": "ff8c07a2",
   "metadata": {},
   "outputs": [],
   "source": [
    "df3 = pd.read_excel('Fz Meat_POS_2023.xlsx')"
   ]
  },
  {
   "cell_type": "code",
   "execution_count": 64,
   "id": "ad30ff71",
   "metadata": {},
   "outputs": [
    {
     "name": "stdout",
     "output_type": "stream",
     "text": [
      "Geography                        0\n",
      "Time                             0\n",
      "Product                          0\n",
      "UPC 13 digit                     0\n",
      "Unit Sales                       0\n",
      "Volume Sales                     0\n",
      "Dollar Sales                     0\n",
      "Price per Unit                   0\n",
      "Price per Volume                 0\n",
      "Base Unit Sales                  0\n",
      "Base Volume Sales                0\n",
      "Base Dollar Sales                0\n",
      "Incremental Units            95956\n",
      "Incremental Volume           95956\n",
      "Incremental Dollars          95956\n",
      "ACV Weighted Distribution        0\n",
      "dtype: int64\n",
      "<class 'pandas.core.frame.DataFrame'>\n",
      "RangeIndex: 272545 entries, 0 to 272544\n",
      "Data columns (total 16 columns):\n",
      " #   Column                     Non-Null Count   Dtype  \n",
      "---  ------                     --------------   -----  \n",
      " 0   Geography                  272545 non-null  object \n",
      " 1   Time                       272545 non-null  object \n",
      " 2   Product                    272545 non-null  object \n",
      " 3   UPC 13 digit               272545 non-null  int64  \n",
      " 4   Unit Sales                 272545 non-null  float64\n",
      " 5   Volume Sales               272545 non-null  float64\n",
      " 6   Dollar Sales               272545 non-null  float64\n",
      " 7   Price per Unit             272545 non-null  float64\n",
      " 8   Price per Volume           272545 non-null  float64\n",
      " 9   Base Unit Sales            272545 non-null  float64\n",
      " 10  Base Volume Sales          272545 non-null  float64\n",
      " 11  Base Dollar Sales          272545 non-null  float64\n",
      " 12  Incremental Units          176589 non-null  float64\n",
      " 13  Incremental Volume         176589 non-null  float64\n",
      " 14  Incremental Dollars        176589 non-null  float64\n",
      " 15  ACV Weighted Distribution  272545 non-null  float64\n",
      "dtypes: float64(12), int64(1), object(3)\n",
      "memory usage: 33.3+ MB\n",
      "None\n"
     ]
    }
   ],
   "source": [
    "print(df3.isnull().sum())  # Count nulls in each column\n",
    "print(df3.info())          # Overview of the dataset"
   ]
  },
  {
   "cell_type": "code",
   "execution_count": 65,
   "id": "1a04762b",
   "metadata": {},
   "outputs": [],
   "source": [
    "df3_cleaned = df3.dropna(subset=['Incremental Units', 'Incremental Volume', 'Incremental Dollars'])"
   ]
  },
  {
   "cell_type": "code",
   "execution_count": 66,
   "id": "0bdc4291",
   "metadata": {},
   "outputs": [],
   "source": [
    "df3['Incremental Units'] = df3['Incremental Units'].fillna(0)  # Replace nulls in Column1 with 0\n",
    "df3['Incremental Volume'] = df3['Incremental Volume'].fillna(0)  # Replace nulls in Column1 with 0\n",
    "df3['Incremental Dollars'] = df3['Incremental Dollars'].fillna(0)  # Replace nulls in Column1 with 0"
   ]
  },
  {
   "cell_type": "code",
   "execution_count": 67,
   "id": "1fdf0638",
   "metadata": {},
   "outputs": [
    {
     "name": "stdout",
     "output_type": "stream",
     "text": [
      "Geography                    0\n",
      "Time                         0\n",
      "Product                      0\n",
      "UPC 13 digit                 0\n",
      "Unit Sales                   0\n",
      "Volume Sales                 0\n",
      "Dollar Sales                 0\n",
      "Price per Unit               0\n",
      "Price per Volume             0\n",
      "Base Unit Sales              0\n",
      "Base Volume Sales            0\n",
      "Base Dollar Sales            0\n",
      "Incremental Units            0\n",
      "Incremental Volume           0\n",
      "Incremental Dollars          0\n",
      "ACV Weighted Distribution    0\n",
      "dtype: int64\n",
      "<class 'pandas.core.frame.DataFrame'>\n",
      "RangeIndex: 272545 entries, 0 to 272544\n",
      "Data columns (total 16 columns):\n",
      " #   Column                     Non-Null Count   Dtype  \n",
      "---  ------                     --------------   -----  \n",
      " 0   Geography                  272545 non-null  object \n",
      " 1   Time                       272545 non-null  object \n",
      " 2   Product                    272545 non-null  object \n",
      " 3   UPC 13 digit               272545 non-null  int64  \n",
      " 4   Unit Sales                 272545 non-null  float64\n",
      " 5   Volume Sales               272545 non-null  float64\n",
      " 6   Dollar Sales               272545 non-null  float64\n",
      " 7   Price per Unit             272545 non-null  float64\n",
      " 8   Price per Volume           272545 non-null  float64\n",
      " 9   Base Unit Sales            272545 non-null  float64\n",
      " 10  Base Volume Sales          272545 non-null  float64\n",
      " 11  Base Dollar Sales          272545 non-null  float64\n",
      " 12  Incremental Units          272545 non-null  float64\n",
      " 13  Incremental Volume         272545 non-null  float64\n",
      " 14  Incremental Dollars        272545 non-null  float64\n",
      " 15  ACV Weighted Distribution  272545 non-null  float64\n",
      "dtypes: float64(12), int64(1), object(3)\n",
      "memory usage: 33.3+ MB\n",
      "None\n"
     ]
    }
   ],
   "source": [
    "print(df3.isnull().sum())  # Count nulls in each column\n",
    "print(df3.info())          # Overview of the dataset"
   ]
  },
  {
   "cell_type": "code",
   "execution_count": 68,
   "id": "9accc38d",
   "metadata": {},
   "outputs": [],
   "source": [
    "df4 = pd.read_excel('Fz Meat_POS_2024.xlsx')"
   ]
  },
  {
   "cell_type": "code",
   "execution_count": 69,
   "id": "dffe4b0e",
   "metadata": {},
   "outputs": [
    {
     "name": "stdout",
     "output_type": "stream",
     "text": [
      "Geography                       0\n",
      "Time                            0\n",
      "Product                         0\n",
      "UPC 13 digit                    0\n",
      "Unit Sales                      0\n",
      "Volume Sales                    0\n",
      "Dollar Sales                    0\n",
      "Price per Unit                  0\n",
      "Price per Volume                0\n",
      "Base Unit Sales                 0\n",
      "Base Volume Sales               0\n",
      "Base Dollar Sales               0\n",
      "Incremental Units            5496\n",
      "Incremental Volume           5496\n",
      "Incremental Dollars          5496\n",
      "ACV Weighted Distribution       0\n",
      "dtype: int64\n",
      "<class 'pandas.core.frame.DataFrame'>\n",
      "RangeIndex: 14819 entries, 0 to 14818\n",
      "Data columns (total 16 columns):\n",
      " #   Column                     Non-Null Count  Dtype  \n",
      "---  ------                     --------------  -----  \n",
      " 0   Geography                  14819 non-null  object \n",
      " 1   Time                       14819 non-null  object \n",
      " 2   Product                    14819 non-null  object \n",
      " 3   UPC 13 digit               14819 non-null  int64  \n",
      " 4   Unit Sales                 14819 non-null  float64\n",
      " 5   Volume Sales               14819 non-null  float64\n",
      " 6   Dollar Sales               14819 non-null  float64\n",
      " 7   Price per Unit             14819 non-null  float64\n",
      " 8   Price per Volume           14819 non-null  float64\n",
      " 9   Base Unit Sales            14819 non-null  float64\n",
      " 10  Base Volume Sales          14819 non-null  float64\n",
      " 11  Base Dollar Sales          14819 non-null  float64\n",
      " 12  Incremental Units          9323 non-null   float64\n",
      " 13  Incremental Volume         9323 non-null   float64\n",
      " 14  Incremental Dollars        9323 non-null   float64\n",
      " 15  ACV Weighted Distribution  14819 non-null  float64\n",
      "dtypes: float64(12), int64(1), object(3)\n",
      "memory usage: 1.8+ MB\n",
      "None\n"
     ]
    }
   ],
   "source": [
    "print(df4.isnull().sum())  # Count nulls in each column\n",
    "print(df4.info())          # Overview of the dataset"
   ]
  },
  {
   "cell_type": "code",
   "execution_count": 70,
   "id": "2e680840",
   "metadata": {},
   "outputs": [],
   "source": [
    "df4_cleaned = df4.dropna(subset=['Incremental Units', 'Incremental Volume', 'Incremental Dollars'])"
   ]
  },
  {
   "cell_type": "code",
   "execution_count": 71,
   "id": "84cb78b8",
   "metadata": {},
   "outputs": [],
   "source": [
    "df4['Incremental Units'] = df4['Incremental Units'].fillna(0)  # Replace nulls in Column1 with 0\n",
    "df4['Incremental Volume'] = df4['Incremental Volume'].fillna(0)  # Replace nulls in Column1 with 0\n",
    "df4['Incremental Dollars'] = df4['Incremental Dollars'].fillna(0)  # Replace nulls in Column1 with 0"
   ]
  },
  {
   "cell_type": "code",
   "execution_count": 72,
   "id": "b8f9e80c",
   "metadata": {},
   "outputs": [
    {
     "name": "stdout",
     "output_type": "stream",
     "text": [
      "Geography                    0\n",
      "Time                         0\n",
      "Product                      0\n",
      "UPC 13 digit                 0\n",
      "Unit Sales                   0\n",
      "Volume Sales                 0\n",
      "Dollar Sales                 0\n",
      "Price per Unit               0\n",
      "Price per Volume             0\n",
      "Base Unit Sales              0\n",
      "Base Volume Sales            0\n",
      "Base Dollar Sales            0\n",
      "Incremental Units            0\n",
      "Incremental Volume           0\n",
      "Incremental Dollars          0\n",
      "ACV Weighted Distribution    0\n",
      "dtype: int64\n",
      "<class 'pandas.core.frame.DataFrame'>\n",
      "RangeIndex: 14819 entries, 0 to 14818\n",
      "Data columns (total 16 columns):\n",
      " #   Column                     Non-Null Count  Dtype  \n",
      "---  ------                     --------------  -----  \n",
      " 0   Geography                  14819 non-null  object \n",
      " 1   Time                       14819 non-null  object \n",
      " 2   Product                    14819 non-null  object \n",
      " 3   UPC 13 digit               14819 non-null  int64  \n",
      " 4   Unit Sales                 14819 non-null  float64\n",
      " 5   Volume Sales               14819 non-null  float64\n",
      " 6   Dollar Sales               14819 non-null  float64\n",
      " 7   Price per Unit             14819 non-null  float64\n",
      " 8   Price per Volume           14819 non-null  float64\n",
      " 9   Base Unit Sales            14819 non-null  float64\n",
      " 10  Base Volume Sales          14819 non-null  float64\n",
      " 11  Base Dollar Sales          14819 non-null  float64\n",
      " 12  Incremental Units          14819 non-null  float64\n",
      " 13  Incremental Volume         14819 non-null  float64\n",
      " 14  Incremental Dollars        14819 non-null  float64\n",
      " 15  ACV Weighted Distribution  14819 non-null  float64\n",
      "dtypes: float64(12), int64(1), object(3)\n",
      "memory usage: 1.8+ MB\n",
      "None\n"
     ]
    }
   ],
   "source": [
    "print(df4.isnull().sum())  # Count nulls in each column\n",
    "print(df4.info())          # Overview of the dataset"
   ]
  },
  {
   "cell_type": "code",
   "execution_count": 73,
   "id": "399a6cde",
   "metadata": {},
   "outputs": [
    {
     "name": "stdout",
     "output_type": "stream",
     "text": [
      "                        Geography                  Time  \\\n",
      "0  Total US - Multi Outlet + Conv  Week Ending 01-12-20   \n",
      "1  Total US - Multi Outlet + Conv  Week Ending 01-12-20   \n",
      "2  Total US - Multi Outlet + Conv  Week Ending 01-12-20   \n",
      "3  Total US - Multi Outlet + Conv  Week Ending 01-12-20   \n",
      "4  Total US - Multi Outlet + Conv  Week Ending 01-12-20   \n",
      "\n",
      "                                             Product  UPC 13 digit  \\\n",
      "0  AL SAFA HALAL FROZEN BEEF HOTDOG 12.6 OZ - 062...  624967436101   \n",
      "1  AL SAFA HALAL FROZEN CHICKEN FRANKFURTER 12 OZ...  624967508101   \n",
      "2  COUNTRY FRESH MEATS FROZEN PORK AND BEEF HOTDO...  829905000521   \n",
      "3  MARTIN PUREFOODS FROZEN BEEF AND PORK HOTDOG 1...   90163001812   \n",
      "4  MARTIN PUREFOODS FROZEN PORK FRANKFURTER 16 OZ...   90163001191   \n",
      "\n",
      "   Unit Sales  Volume Sales  Dollar Sales  Price per Unit  Price per Volume  \\\n",
      "0   30.024498     23.644292    199.207954        6.634847          8.425203   \n",
      "1   60.278876     45.209157    219.138867        3.635417          4.847223   \n",
      "2   79.387175     79.387175    475.529176        5.990000          5.990000   \n",
      "3   13.719284     10.289463     89.217078        6.503042          8.670723   \n",
      "4    9.572780      9.572780     52.686511        5.503784          5.503784   \n",
      "\n",
      "   Base Unit Sales  Base Volume Sales  Base Dollar Sales  Incremental Units  \\\n",
      "0        30.024498          23.644292         199.207954                0.0   \n",
      "1        60.278876          45.209157         219.138867                0.0   \n",
      "2        79.387175          79.387175         475.529176                0.0   \n",
      "3        13.719284          10.289463          89.217078                0.0   \n",
      "4         9.572780           9.572780          52.686511                0.0   \n",
      "\n",
      "   Incremental Volume  Incremental Dollars  ACV Weighted Distribution  \n",
      "0                 0.0                  0.0                   0.033770  \n",
      "1                 0.0                  0.0                   0.050171  \n",
      "2                 0.0                  0.0                   0.002639  \n",
      "3                 0.0                  0.0                   0.011521  \n",
      "4                 0.0                  0.0                   0.008065  \n",
      "<class 'pandas.core.frame.DataFrame'>\n",
      "RangeIndex: 1194776 entries, 0 to 1194775\n",
      "Data columns (total 16 columns):\n",
      " #   Column                     Non-Null Count    Dtype  \n",
      "---  ------                     --------------    -----  \n",
      " 0   Geography                  1194776 non-null  object \n",
      " 1   Time                       1194776 non-null  object \n",
      " 2   Product                    1194776 non-null  object \n",
      " 3   UPC 13 digit               1194776 non-null  int64  \n",
      " 4   Unit Sales                 1194776 non-null  float64\n",
      " 5   Volume Sales               1194776 non-null  float64\n",
      " 6   Dollar Sales               1194776 non-null  float64\n",
      " 7   Price per Unit             1194776 non-null  float64\n",
      " 8   Price per Volume           1194776 non-null  float64\n",
      " 9   Base Unit Sales            1194776 non-null  float64\n",
      " 10  Base Volume Sales          1194776 non-null  float64\n",
      " 11  Base Dollar Sales          1194776 non-null  float64\n",
      " 12  Incremental Units          1194776 non-null  float64\n",
      " 13  Incremental Volume         1194776 non-null  float64\n",
      " 14  Incremental Dollars        1194776 non-null  float64\n",
      " 15  ACV Weighted Distribution  1194776 non-null  float64\n",
      "dtypes: float64(12), int64(1), object(3)\n",
      "memory usage: 145.8+ MB\n",
      "None\n",
      "       UPC 13 digit    Unit Sales  Volume Sales  Dollar Sales  Price per Unit  \\\n",
      "count  1.194776e+06  1.194776e+06  1.194776e+06  1.194776e+06    1.194776e+06   \n",
      "mean   2.009087e+11  2.343446e+03  3.332950e+03  1.446509e+04    9.000216e+00   \n",
      "std    3.528974e+11  1.197240e+04  1.206135e+04  5.104408e+04    6.523357e+00   \n",
      "min    8.169640e+05  1.000000e-02  3.750086e-03  3.244581e-02    5.000000e-02   \n",
      "25%    1.858258e+10  4.044908e+01  5.928444e+01  3.117600e+02    5.185194e+00   \n",
      "50%    5.397591e+10  2.686386e+02  4.008008e+02  2.044284e+03    7.800579e+00   \n",
      "75%    8.470601e+10  1.324224e+03  2.090000e+03  9.911167e+03    1.115836e+01   \n",
      "max    9.421036e+12  9.213850e+05  9.925841e+05  3.398422e+06    2.264995e+02   \n",
      "\n",
      "       Price per Volume  Base Unit Sales  Base Volume Sales  \\\n",
      "count      1.194776e+06     1.194776e+06       1.194776e+06   \n",
      "mean       5.796649e+00     2.072002e+03       2.971337e+03   \n",
      "std        3.692137e+00     1.045652e+04       1.079978e+04   \n",
      "min        5.000000e-02     9.747708e-03       3.750086e-03   \n",
      "25%        3.740375e+00     3.799497e+01       5.528232e+01   \n",
      "50%        4.956316e+00     2.437249e+02       3.648750e+02   \n",
      "75%        6.641165e+00     1.189326e+03       1.859456e+03   \n",
      "max        1.132498e+02     6.938919e+05       6.721906e+05   \n",
      "\n",
      "       Base Dollar Sales  Incremental Units  Incremental Volume  \\\n",
      "count       1.194776e+06       1.194776e+06        1.194776e+06   \n",
      "mean        1.327741e+04       2.714445e+02        3.616134e+02   \n",
      "std         4.653908e+04       2.258285e+03        2.391176e+03   \n",
      "min         2.668309e-02       0.000000e+00        0.000000e+00   \n",
      "25%         2.983958e+02       0.000000e+00        0.000000e+00   \n",
      "50%         1.907360e+03       1.220001e+00        1.573727e+00   \n",
      "75%         9.128527e+03       4.190719e+01        6.409272e+01   \n",
      "max         3.362522e+06       2.932372e+05        4.105825e+05   \n",
      "\n",
      "       Incremental Dollars  ACV Weighted Distribution  \n",
      "count         1.194776e+06               1.194776e+06  \n",
      "mean          1.187681e+03               4.035016e+00  \n",
      "std           8.086061e+03               8.270645e+00  \n",
      "min          -9.157103e+03               3.760003e-05  \n",
      "25%           0.000000e+00               1.064624e-01  \n",
      "50%           2.345969e+00               6.020786e-01  \n",
      "75%           2.289304e+02               3.656381e+00  \n",
      "max           1.059552e+06               7.782840e+01  \n"
     ]
    }
   ],
   "source": [
    "data = pd.concat([df, df1, df2, df3, df4], ignore_index=True)\n",
    "\n",
    "# Explore the dataset\n",
    "print(data.head())\n",
    "print(data.info())\n",
    "print(data.describe())"
   ]
  },
  {
   "cell_type": "code",
   "execution_count": 74,
   "id": "866dd352",
   "metadata": {},
   "outputs": [
    {
     "name": "stdout",
     "output_type": "stream",
     "text": [
      "  Time  IsHoliday\n",
      "0  NaT      False\n",
      "1  NaT      False\n",
      "2  NaT      False\n",
      "3  NaT      False\n",
      "4  NaT      False\n"
     ]
    }
   ],
   "source": [
    "import pandas as pd\n",
    "\n",
    "# Convert 'Time' column to datetime\n",
    "data['Time'] = pd.to_datetime(data['Time'], errors='coerce')\n",
    "\n",
    "# Define holiday dates (adjust these dates as per your data context)\n",
    "holidays = ['2020-12-25', '2021-12-25', '2022-12-25', '2023-12-25', '2024-12-25', '2024-11-28']\n",
    "holidays = pd.to_datetime(holidays)\n",
    "\n",
    "# Create 'IsHoliday' column\n",
    "data['IsHoliday'] = data['Time'].isin(holidays)\n",
    "\n",
    "# Check if the column exists\n",
    "print(data[['Time', 'IsHoliday']].head())"
   ]
  },
  {
   "cell_type": "code",
   "execution_count": 75,
   "id": "e385e560",
   "metadata": {},
   "outputs": [
    {
     "name": "stdout",
     "output_type": "stream",
     "text": [
      "   IsHoliday    Unit Sales  Dollar Sales  Incremental Dollars\n",
      "0      False  2.799893e+09  1.728255e+10         1.419013e+09\n"
     ]
    }
   ],
   "source": [
    "# Aggregated sales during holidays and non-holidays\n",
    "holiday_sales = data.groupby('IsHoliday').agg({\n",
    "    'Unit Sales': 'sum',\n",
    "    'Dollar Sales': 'sum',\n",
    "    'Incremental Dollars': 'sum'\n",
    "}).reset_index()\n",
    "\n",
    "print(holiday_sales)"
   ]
  },
  {
   "cell_type": "code",
   "execution_count": 76,
   "id": "b78a6f2a",
   "metadata": {},
   "outputs": [
    {
     "name": "stdout",
     "output_type": "stream",
     "text": [
      "                                             Product    Unit Sales  \\\n",
      "0  BUBBA BURGER FROZEN BEEF BURGER BOX 32 OZ - 07...  4.247893e+07   \n",
      "1  BANQUET BROWN N SERVE FROZEN PORK AND TURKEY B...  2.107990e+08   \n",
      "2  BUBBA BURGER FROZEN ANGUS BEEF BURGER PLASTIC ...  2.226155e+07   \n",
      "3  BANQUET BROWN N SERVE FROZEN PORK AND TURKEY B...  4.708776e+07   \n",
      "4  PURNELL OLD FOLKS FROZEN PORK COUNTRY SAUSAGE ...  2.746950e+07   \n",
      "\n",
      "   Dollar Sales  \n",
      "0  5.803696e+08  \n",
      "1  3.473067e+08  \n",
      "2  3.291088e+08  \n",
      "3  2.904529e+08  \n",
      "4  2.696198e+08  \n"
     ]
    }
   ],
   "source": [
    "# Analyze sales by geography\n",
    "geo_sales = data.groupby('Geography').agg({\n",
    "    'Unit Sales': 'sum',\n",
    "    'Dollar Sales': 'sum'\n",
    "}).reset_index()\n",
    "\n",
    "# Analyze sales by product\n",
    "product_sales = data.groupby('Product').agg({\n",
    "    'Unit Sales': 'sum',\n",
    "    'Dollar Sales': 'sum'\n",
    "}).sort_values(by='Dollar Sales', ascending=False).reset_index()\n",
    "\n",
    "print(product_sales.head())"
   ]
  },
  {
   "cell_type": "code",
   "execution_count": 77,
   "id": "504bc870",
   "metadata": {},
   "outputs": [
    {
     "data": {
      "image/png": "[encoded data removed]",
      "text/plain": [
       "<Figure size 432x288 with 2 Axes>"
      ]
     },
     "metadata": {
      "needs_background": "light"
     },
     "output_type": "display_data"
    }
   ],
   "source": [
    "# Focus on relevant columns\n",
    "correlation_columns = [\n",
    "    'Price per Unit', 'Price per Volume', 'Incremental Units',\n",
    "    'Incremental Volume', 'Incremental Dollars', 'Dollar Sales', 'Unit Sales'\n",
    "]\n",
    "\n",
    "# Calculate correlations\n",
    "correlation_matrix = data[correlation_columns].corr()\n",
    "\n",
    "import seaborn as sns\n",
    "import matplotlib.pyplot as plt\n",
    "\n",
    "sns.heatmap(correlation_matrix, annot=True, cmap='coolwarm')\n",
    "plt.title('Correlation Between Variables')\n",
    "plt.show()"
   ]
  },
  {
   "cell_type": "code",
   "execution_count": 78,
   "id": "4da0a295",
   "metadata": {},
   "outputs": [
    {
     "name": "stdout",
     "output_type": "stream",
     "text": [
      "   IsHoliday  Base Dollar Sales  Incremental Dollars  Promotional Lift\n",
      "0      False       1.586353e+10         1.419013e+09          0.090489\n"
     ]
    }
   ],
   "source": [
    "# Calculate promotional lift\n",
    "data['Promotional Lift'] = data['Incremental Dollars'] / data['Base Dollar Sales']\n",
    "\n",
    "# Compare holidays vs. regular days\n",
    "comparison = data.groupby(['IsHoliday']).agg({\n",
    "    'Base Dollar Sales': 'sum',\n",
    "    'Incremental Dollars': 'sum',\n",
    "    'Promotional Lift': 'mean'\n",
    "}).reset_index()\n",
    "\n",
    "print(comparison)"
   ]
  },
  {
   "cell_type": "code",
   "execution_count": 81,
   "id": "e7b68eca",
   "metadata": {},
   "outputs": [
    {
     "data": {
      "image/png": "[encoded data removed]",
      "text/plain": [
       "<Figure size 432x288 with 1 Axes>"
      ]
     },
     "metadata": {
      "needs_background": "light"
     },
     "output_type": "display_data"
    }
   ],
   "source": [
    "# Promotional lift bar chart\n",
    "sns.barplot(data=comparison, x='IsHoliday', y='Promotional Lift')\n",
    "plt.title('Promotional Lift During Holidays')\n",
    "plt.show()"
   ]
  },
  {
   "cell_type": "code",
   "execution_count": 80,
   "id": "bbda92d4",
   "metadata": {},
   "outputs": [
    {
     "name": "stdout",
     "output_type": "stream",
     "text": [
      "RMSE: 38009.502207469755\n"
     ]
    }
   ],
   "source": [
    "from sklearn.model_selection import train_test_split\n",
    "from sklearn.ensemble import RandomForestRegressor\n",
    "from sklearn.metrics import mean_squared_error\n",
    "\n",
    "# Prepare features and target\n",
    "features = data[['Price per Unit', 'Price per Volume', 'ACV Weighted Distribution', 'IsHoliday']]\n",
    "features['IsHoliday'] = features['IsHoliday'].astype(int)  # Convert to numeric\n",
    "target = data['Dollar Sales']\n",
    "\n",
    "# Train-test split\n",
    "X_train, X_test, y_train, y_test = train_test_split(features, target, test_size=0.2, random_state=42)\n",
    "\n",
    "# Fit a Random Forest model\n",
    "model = RandomForestRegressor(random_state=42)\n",
    "model.fit(X_train, y_train)\n",
    "\n",
    "# Evaluate the model\n",
    "y_pred = model.predict(X_test)\n",
    "rmse = mean_squared_error(y_test, y_pred, squared=False)\n",
    "print(f\"RMSE: {rmse}\")"
   ]
  },
  {
   "cell_type": "code",
   "execution_count": null,
   "id": "05aac502",
   "metadata": {},
   "outputs": [],
   "source": []
  }
 ],
 "metadata": {
  "kernelspec": {
   "display_name": "Python 3 (ipykernel)",
   "language": "python",
   "name": "python3"
  },
  "language_info": {
   "codemirror_mode": {
    "name": "ipython",
    "version": 3
   },
   "file_extension": ".py",
   "mimetype": "text/x-python",
   "name": "python",
   "nbconvert_exporter": "python",
   "pygments_lexer": "ipython3",
   "version": "3.9.12"
  }
 },
 "nbformat": 4,
 "nbformat_minor": 5
}
